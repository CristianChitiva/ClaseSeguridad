{
 "cells": [
  {
   "cell_type": "markdown",
   "id": "55d70d40",
   "metadata": {
    "slideshow": {
     "slide_type": "slide"
    }
   },
   "source": [
    "<center>\n",
    "    <img src=\"https://ucompensar.edu.co/wp-content/uploads/2022/02/logo-ucompensar-2022.jpg\" width=\"300\" alt=\"cognitiveclass.ai logo\"  />\n",
    "</center>\n",
    "\n",
    "## Trabajo Final Seguridad de Datos \n",
    " \n",
    "Especialización de Big Data, Ucompensar\n",
    "### Realizado por:\n",
    "\n",
    "* *Cristian Camilo Chitiva Arevalo*\n",
    "* *Gabriel Esteban Lebete Lopez*\n",
    "* *Gustavo Alberto Lozano Pinilla*"
   ]
  },
  {
   "cell_type": "markdown",
   "id": "4bb69de3",
   "metadata": {
    "slideshow": {
     "slide_type": "slide"
    }
   },
   "source": [
    "---\n",
    "\n",
    "# Qué veremos?\n",
    "\n",
    "El desarrollo de los laboratorios de seguridad y un ensayo sobre un artículo relacionado a ransomware\n",
    "\n",
    "- 💻 **1 3.1.2.3 Lab** - Backup Data to External Storage_ok\n",
    "- 💻 **1.2.1.3 Lab** - Compare Data with a Hash_ok\n",
    "- 🛠 **ransomware** - Global Ransomware Damage Costs Predicted To Exceed $265 Billion By 2031\n",
    "\n",
    "<br>\n",
    "<br>"
   ]
  },
  {
   "cell_type": "markdown",
   "id": "b67c40a5",
   "metadata": {
    "slideshow": {
     "slide_type": "slide"
    }
   },
   "source": [
    "## Laboratorio 1 - Backup Data to External Storage_ok 💻\n",
    "\n",
    "El uso de los equipos y los requisitos de la organización determinan con qué frecuencia deben realizarse los respaldos de los datos y qué tipo de respaldo implementar. Es posible que ejecutar un respaldo lleve mucho tiempo. Si se sigue meticulosamente la estrategia de respaldos, no es necesario realizar un respaldo de todos los archivos cada vez. Solo es necesario respaldar los archivos que se modificaron desde el último respaldo.\n",
    "Microsoft Windows incluye herramientas de respaldo que pueden usarse para realizar respaldos de archivos. En las versiones anteriores a Windows 8, se podía usar la herramienta Copias de seguridad y restauración para hacer copias de seguridad (respaldos) de sus archivos. \n",
    "____________________________________________________________________________________\n",
    "| ¿Por qué elegiría realizar respaldos a las 03:00? y no en otro horario. | \n",
    "| ----------------- | \n",
    "|Por qué a esa hora no está el equipo en uso y no se afecta el rendimiento del equipo|\n",
    "\n",
    "____________________________________________________________________________________\n"
   ]
  },
  {
   "cell_type": "markdown",
   "id": "c2adcfe4",
   "metadata": {
    "slideshow": {
     "slide_type": "slide"
    }
   },
   "source": [
    "### Paso 1:\tIntroducción a los servicios de respaldo basados en la nube\n",
    "\n",
    "Otra opción para un destino de respaldo es un disco remoto. Podría ser un servicio completo en la nube o, simplemente, una NAS conectada a la red; los respaldos remotos también son muy comunes.\n",
    "____________________________________________________________________________________\n",
    "\n",
    "a.\tEnumere algunos servicios de respaldo basados en la nube:\n",
    "\n",
    "| Servicio | \n",
    "| ----------------- | \n",
    "|Google Drive|\n",
    "|One Drive|\n",
    "|Dropbox|\n",
    "|Mega|\n",
    "\n",
    "____________________________________________________________________________________\n",
    "b.\tInvestigue los servicios que detalló anteriormente. ¿Son gratuitos?\n",
    "* *Si, hasta un límite de almacenamiento gratuito, por ejemplo Google da 15GB por cuenta. Luego de llenado si se quiere más espacio se debe pagar*"
   ]
  },
  {
   "cell_type": "markdown",
   "id": "e0a6c531",
   "metadata": {
    "slideshow": {
     "slide_type": "subslide"
    }
   },
   "source": [
    "____________________________________________________________________________________\n",
    "c.\t¿Los servicios que detalló dependen de una plataforma específica?\n",
    "* *En su mayoría sí, por ejemplo Google depende de tener una cuenta de Gmail, al igual que Microsoft con Outlook.*\n",
    "____________________________________________________________________________________\n",
    "d.\t¿Puede acceder a sus datos desde todos los dispositivos que posee (equipo de escritorio, portátil, tableta y teléfono)?\n",
    "* *Siempre, bajo conexión a Internet y en algunos casos se requiere tener instalada aplicaciones adicionales*\n"
   ]
  },
  {
   "cell_type": "markdown",
   "id": "b1c2e16c",
   "metadata": {
    "slideshow": {
     "slide_type": "slide"
    }
   },
   "source": [
    "### Reflexión\n",
    "\n",
    "1.\t¿Cuáles son las ventajas de realizar respaldos de los datos en un disco externo local?\n",
    "* *La copia de seguridad local te da más seguridad. No dependes de la conexión a Internet. Cumples con la normativa de protección de datos. Existen diversos métodos para hacerlas. Tienes una mayor escalabilidad. Aumentan los costes.*\n",
    "_______________________________________________________________________________________\n",
    "\n",
    "2.\t¿Cuáles son las desventajas de realizar respaldos de los datos en un disco externo local?\n",
    "* *Aumentan los costes. Debes tener conocimientos informáticos. Riesgos de seguridad. Mala distribución.*\n"
   ]
  },
  {
   "cell_type": "markdown",
   "id": "6447c98f",
   "metadata": {
    "slideshow": {
     "slide_type": "subslide"
    }
   },
   "source": [
    "_______________________________________________________________________________________\n",
    "\n",
    "3.\t¿Cuáles son las ventajas de realizar respaldos de datos en un disco basado en la nube?\n",
    "* *No es necesaria una infraestructura costosa. Accesibilidad. Recuperación de datos. Seguridad y más seguridad.*\n",
    "_______________________________________________________________________________________\n",
    "\n",
    "4.\t¿Cuáles son las desventajas de realizar respaldos de datos en un disco basado en la nube?\n",
    "* *Conexión a Internet. Costes adicionales. Hardware. Vulnerabilidad a ciberataques. Privacidad.*\n",
    "_______________________________________________________________________________________\n"
   ]
  },
  {
   "cell_type": "markdown",
   "id": "30f69931",
   "metadata": {
    "slideshow": {
     "slide_type": "slide"
    }
   },
   "source": [
    "## Laboratorio 2 - Compare Data with a Hash_ok 💻\n",
    "\n",
    "\n",
    "<center>\n",
    "    <img src=\"https://www.thesslstore.com/blog/wp-content/uploads/2021/01/hash-function-example.png\" width=\"300\" alt=\"cognitiveclass.ai logo\"  />\n",
    "</center>\n",
    "\n",
    "En informática, la función Hash es muy utilizada para garantizar la integridad de los ducumentos.\n",
    "\n",
    "Es una operación criptográfica que genera identificadores únicos e irrepetibles a partir de una información dada. Los hashes son una pieza clave en la tecnología blockchain y tiene una amplia utilidad.\n",
    "\n",
    "Tiene como objetivo primordial codificar datos para formar una cadena de caracteres única. Todo ello sin importar la cantidad de datos introducidos inicialmente en la función. Estas funciones sirven para asegurar la autenticidad de datos, almacenar de forma segura contraseñas, y la firma de documento electrónicos."
   ]
  },
  {
   "cell_type": "markdown",
   "id": "5f0c343a",
   "metadata": {
    "slideshow": {
     "slide_type": "slide"
    }
   },
   "source": [
    "### Ejercicio Práctico:\n",
    "\n",
    "1. Descargar e instalar HashCalc 2.02 a través de http://www.slavasoft.com/download.htm\n",
    "\n",
    "_______________________________________________________________________________________\n",
    "\n",
    "2. Crear un archivo de texto con la palabra o frase que uno eliga y guardarlo en el equipo.\n",
    "\n",
    "\n",
    "<center>\n",
    "    <img src=\"https://i0.wp.com/itexam24.com/wp-content/uploads/2019/02/word-image-165.png?w=553&ssl=1\" width=\"300\" alt=\"cognitiveclass.ai logo\"  />\n",
    "</center>"
   ]
  },
  {
   "cell_type": "markdown",
   "id": "f8fc867a",
   "metadata": {
    "slideshow": {
     "slide_type": "subslide"
    }
   },
   "source": [
    "_______________________________________________________________________________________\n",
    "\n",
    "3. Cargue el archivo de texto en el aplicativo y oprima el botón calcular:\n",
    "<center>\n",
    "    <img src=\"https://4sysops.com/wp-content/uploads/2009/07/HashCalc.png\" width=\"300\" alt=\"cognitiveclass.ai logo\"  />\n",
    "</center>\n",
    "\n",
    "_______________________________________________________________________________________\n",
    "\n",
    "4. ¿Cuál es el valor MD5?\n",
    "* *4e8c586702ab03c9cb9b0e0f12d9be43*"
   ]
  },
  {
   "cell_type": "markdown",
   "id": "3da45d8e",
   "metadata": {
    "slideshow": {
     "slide_type": "subslide"
    }
   },
   "source": [
    "_______________________________________________________________________________________\n",
    "\n",
    "5. Realice un cambio en el archivo de texto y vuelva a ejecutar el HashCalc. ¿El valor cambió?\n",
    "* *Sí, ahora es 82e8ac8d4ae929c79e1ce4cf1f0691f4*\n",
    "_______________________________________________________________________________________\n",
    "\n",
    "6. Fíjese cómo muchos de los tipos de hash crean un hash de longitud diferente. ¿Por qué?\n",
    "* Porque hay varias funciones hash distintas, algunas muy simples y otras muy complejas.*"
   ]
  },
  {
   "cell_type": "markdown",
   "id": "058a155f",
   "metadata": {
    "slideshow": {
     "slide_type": "slide"
    }
   },
   "source": [
    "## Artículo - Global Ransomware Damage Costs Predicted To Exceed $265 Billion By 2031 💻\n",
    "\n",
    "<center>\n",
    "    <img src=\"https://www.incibe.es/sites/default/files/contenidos/twitter_cards/antiransomware.jpg\" width=\"600\" alt=\"cognitiveclass.ai logo\"  />\n",
    "</center>\n",
    "\n"
   ]
  },
  {
   "cell_type": "markdown",
   "id": "a0b5358e",
   "metadata": {
    "slideshow": {
     "slide_type": "slide"
    }
   },
   "source": [
    "<div class=\"alert alert-block alert-info\">\n",
    "En el mundo de la informática se ha propagado de manera rápida programas maliciosos que generan daños en procesos grandes empresas y personas naturales, llamados Malware, dichos programas han generado costos por daños en miles de millones de dólares.\n",
    "<br><br>\n",
    "Y es que los programas de esta clase son como zombies, esto quiere decir por más que se eliminen algunos luego aparecen nuevamente dos o tres veces más, y es donde su ataque se vuelve más severo en áreas financieras, sin embargo, se han diseñado programas anti ransomware como el Illusive.\n",
    "</div>"
   ]
  },
  {
   "cell_type": "markdown",
   "id": "955e4243",
   "metadata": {
    "slideshow": {
     "slide_type": "subslide"
    }
   },
   "source": [
    "<div class=\"alert alert-block alert-info\">\n",
    "Aunque dichos programas anti ransomware tratan de atajar, el centro de quejas y delitos en Internet reporta pérdidas entre 29 y 33 millones de dólares, cifras alarmantes y preocupantes.\n",
    "<br><br>\n",
    "Siempre hay que tener presente que el ransomware es un gran dolor de cabeza para todas las empresas, tambaleando sus accesos y frutos, llamándonos a estar muy alerta en los correos electrónicos o URL maliciosos para que no sean abiertos sino eliminados.\n",
    "<br><br>\n",
    "Las empresas grandes deben estar siempre alertas con su documentación, su información y riqueza para que no tengan que pagar rescates para acceder a lo de los suyos.\n",
    "</div>"
   ]
  },
  {
   "cell_type": "markdown",
   "id": "10f71842",
   "metadata": {},
   "source": [
    "<div class=\"alert alert-block alert-info\">\n",
    "Para mantener una seguridad aceptable ante estas situaciones tener en cuenta los siguientes factores: seguridad de Firewall, disponibilidad de dicha seguridad las 24 horas, privacidad, control, por personas calificadas para dicha tarea.\n",
    "<br><br>\n",
    "Hay que tener también presente con los autores de Ransomware ya que estos tienen mucho tiempo para idear como vulnerar los sistemas informáticos de la empresa.\n",
    "<br><br>\n",
    "Los dispositivos del Internet de las cosas llegan a todas las áreas de la sociedad como la salud, comercial, y de consumo. De igual manera los nuevos dispositivos de sensores de los vehículos y drones son igual de vulnerables a estos ataques, y no son cantidades pequeñas.\n",
    "</div>"
   ]
  },
  {
   "cell_type": "markdown",
   "id": "7d247448",
   "metadata": {
    "slideshow": {
     "slide_type": "subslide"
    }
   },
   "source": [
    "<div class=\"alert alert-block alert-info\">\n",
    "La variedad de proveedores, bases de código y dependencias tienen sus propios lineamientos de ingreso en donde puede los hackers con el ransomware pueden generar daños significativos.\n",
    "<br><br>\n",
    "Hacia el futuro se verán omnipresente en nuestra vida cotidiana.\n",
    "<br><br>\n",
    "Es importante invertir en esfuerzos para combatir el ransomware mediante la búsqueda de fugas en los códigos, buscar la manera de automatizar los procesos para la detección temprana de vulnerabilidades.\n",
    "</div>"
   ]
  },
  {
   "cell_type": "markdown",
   "id": "a96cd93b",
   "metadata": {
    "slideshow": {
     "slide_type": "subslide"
    }
   },
   "source": [
    "<div class=\"alert alert-block alert-info\">\n",
    "También es importante tener presente que cada día las empresas están usando cada vez más las plataformas basadas en la nube cuyas arquitecturas full-stack altamente granulares pueden propagar más fácilmente nuevos parches a través de una gran cantidad de computadores, instancias, reduciendo la exposición de las empresas a los ataques de ransomware. \n",
    "<br><br>\n",
    "Las plataformas en la nube también pueden admitir aplicaciones implementadas con herramientas especialmente diseñadas capaces de detectar y detener las actividades reveladoras del ransomware, y otras que aprovecharán la capacidad de almacenamiento de datos prácticamente ilimitada de la nube para mantener copias de seguridad actualizadas para una fácil restauración de los datos. Es importante poner mucha atención y dedicación al tema de los agujeros o fisuras en los códigos para así dificultarles a los hackers el ingreso.\n",
    "<br><br> \n",
    "Todo el tema de del ransomware en pleno crecimiento, está afectando a toda la comunidad global haciendo que este problema sea asunto de estado, generando nuevas leyes y nuevos procedimientos como sanciones para contrarrestar este mal.\n",
    "</div>"
   ]
  },
  {
   "cell_type": "markdown",
   "id": "e93b0d2a",
   "metadata": {
    "slideshow": {
     "slide_type": "subslide"
    }
   },
   "source": [
    "<div class=\"alert alert-block alert-info\">\n",
    "Las soluciones a largo plazo van de la mano de la tecnología que surja y que innove como por ejemplo computación en la nube, IA, drones, vehículos autónomos donde con seguridad tendrán mejores códigos de seguridad y protección.\n",
    "<br><br>\n",
    "Las gestiones desde el punto de vista tecnológico deben seguir siendo muy vigilantes en el monitoreo y solución preventiva ante el ransomware, Se debe intensificar la educación y capacitación de los usuarios para garantizar que reduzca la vulnerabilidad de ataque del programa malicioso.\n",
    "<br><br>\n",
    "Adicional a lo anterior también tener en uso herramientas de escaneo de correo electrónico, campañas educativas en las empresas y motivar a las personas a que denuncien los ataques.    \n",
    "</div>"
   ]
  }
 ],
 "metadata": {
  "celltoolbar": "Slideshow",
  "kernelspec": {
   "display_name": "Python 3 (ipykernel)",
   "language": "python",
   "name": "python3"
  },
  "language_info": {
   "codemirror_mode": {
    "name": "ipython",
    "version": 3
   },
   "file_extension": ".py",
   "mimetype": "text/x-python",
   "name": "python",
   "nbconvert_exporter": "python",
   "pygments_lexer": "ipython3",
   "version": "3.9.13"
  }
 },
 "nbformat": 4,
 "nbformat_minor": 5
}
